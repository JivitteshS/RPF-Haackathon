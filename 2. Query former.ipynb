{
 "cells": [
  {
   "cell_type": "code",
   "execution_count": 1,
   "id": "f8d0f70d",
   "metadata": {},
   "outputs": [],
   "source": [
    "from langgraph.graph import StateGraph\n",
    "from typing import TypedDict, List, Annotated\n",
    "from langchain_openai import AzureChatOpenAI\n",
    "import operator\n",
    "from langgraph.graph import END\n",
    "import os\n",
    "# from langchain_community.document_loaders import WebBaseLoader\n",
    "from langgraph.graph import END, StateGraph, START\n",
    "# from langchain_community.vectorstores import Chroma\n",
    "from langchain_openai import OpenAIEmbeddings\n",
    "from langchain_text_splitters import RecursiveCharacterTextSplitter\n",
    "from langchain_core.output_parsers import StrOutputParser\n",
    "from typing import List\n",
    "from langchain_community.vectorstores import FAISS\n",
    "from typing_extensions import TypedDict"
   ]
  },
  {
   "cell_type": "code",
   "execution_count": 2,
   "id": "a0ed6ac0",
   "metadata": {},
   "outputs": [],
   "source": [
    "os.environ[\"OPENAI_API_VERSION\"] = \"2024-02-01\"\n",
    "os.environ[\"AZURE_OPENAI_ENDPOINT\"] = \"https://expazure-openai.openai.azure.com/\"\n",
    "os.environ[\"AZURE_OPENAI_API_KEY\"] = \"0f5cb3c2ad3d40d9a76142c3f49cad9f\"\n",
    "\n",
    "llm = AzureChatOpenAI(\n",
    "    azure_deployment=\"gpt35\",\n",
    "    api_version=\"2024-02-01\",\n",
    "    temperature=0,\n",
    "    max_tokens=2000,\n",
    "    timeout=None,\n",
    "    max_retries=2,\n",
    "    )"
   ]
  },
  {
   "cell_type": "code",
   "execution_count": 3,
   "id": "9d16265e",
   "metadata": {},
   "outputs": [],
   "source": [
    "query_splitter_prompt=\"\"\"\n",
    "    \n",
    "    \n",
    "    \n",
    "\"\"\"\n",
    "\n"
   ]
  },
  {
   "cell_type": "code",
   "execution_count": 5,
   "id": "a1d70a38",
   "metadata": {},
   "outputs": [
    {
     "ename": "NameError",
     "evalue": "name 'question' is not defined",
     "output_type": "error",
     "traceback": [
      "\u001b[1;31m---------------------------------------------------------------------------\u001b[0m",
      "\u001b[1;31mNameError\u001b[0m                                 Traceback (most recent call last)",
      "Cell \u001b[1;32mIn[5], line 22\u001b[0m\n\u001b[0;32m      4\u001b[0m llm \u001b[38;5;241m=\u001b[39m AzureChatOpenAI(\n\u001b[0;32m      5\u001b[0m     azure_deployment\u001b[38;5;241m=\u001b[39m\u001b[38;5;124m\"\u001b[39m\u001b[38;5;124mgpt35\u001b[39m\u001b[38;5;124m\"\u001b[39m,\n\u001b[0;32m      6\u001b[0m     api_version\u001b[38;5;241m=\u001b[39m\u001b[38;5;124m\"\u001b[39m\u001b[38;5;124m2024-02-01\u001b[39m\u001b[38;5;124m\"\u001b[39m,\n\u001b[1;32m   (...)\u001b[0m\n\u001b[0;32m     10\u001b[0m     max_retries\u001b[38;5;241m=\u001b[39m\u001b[38;5;241m2\u001b[39m,\n\u001b[0;32m     11\u001b[0m     )\n\u001b[0;32m     13\u001b[0m \u001b[38;5;66;03m# Prompt\u001b[39;00m\n\u001b[0;32m     14\u001b[0m prompt \u001b[38;5;241m=\u001b[39m ChatPromptTemplate\u001b[38;5;241m.\u001b[39mfrom_template(\u001b[38;5;124mf\u001b[39m\u001b[38;5;124m\"\"\"\u001b[39m\u001b[38;5;124mYou are a question reinterpreter.\u001b[39m\n\u001b[0;32m     15\u001b[0m \u001b[38;5;124m    \u001b[39m\n\u001b[0;32m     16\u001b[0m \u001b[38;5;124m    --If the provided question is not properly formed, then form a proper question out of the input.\u001b[39m\n\u001b[0;32m     17\u001b[0m \u001b[38;5;124m    --If the provided question is given as a proper query then return the output as it is.\u001b[39m\n\u001b[0;32m     18\u001b[0m \u001b[38;5;124m    --DO NOT loose information from the input\u001b[39m\n\u001b[0;32m     19\u001b[0m \u001b[38;5;124m    \u001b[39m\n\u001b[0;32m     20\u001b[0m \u001b[38;5;124m    Output: Return only the reformed question as the output.\u001b[39m\n\u001b[0;32m     21\u001b[0m \u001b[38;5;124m    \u001b[39m\n\u001b[1;32m---> 22\u001b[0m \u001b[38;5;124m    Here is the question : \u001b[39m\u001b[38;5;132;01m{\u001b[39;00mquestion\u001b[38;5;132;01m}\u001b[39;00m\u001b[38;5;124m\"\"\"\u001b[39m)\n\u001b[0;32m     24\u001b[0m chain \u001b[38;5;241m=\u001b[39m prompt \u001b[38;5;241m|\u001b[39m llm\n\u001b[0;32m     26\u001b[0m query\u001b[38;5;241m=\u001b[39m\u001b[38;5;124m\"\u001b[39m\u001b[38;5;124mLoad balancing customer IO capabilities across nodes in a cluster or across geographic areas within a region\u001b[39m\u001b[38;5;124m\"\u001b[39m\n",
      "\u001b[1;31mNameError\u001b[0m: name 'question' is not defined"
     ]
    }
   ],
   "source": [
    "from langchain_core.output_parsers import StrOutputParser\n",
    "from langchain_core.prompts import ChatPromptTemplate\n",
    "# LLM\n",
    "llm = AzureChatOpenAI(\n",
    "    azure_deployment=\"gpt35\",\n",
    "    api_version=\"2024-02-01\",\n",
    "    temperature=0,\n",
    "    max_tokens=2000,\n",
    "    timeout=None,\n",
    "    max_retries=2,\n",
    "    )\n",
    "\n",
    "# Prompt\n",
    "prompt = ChatPromptTemplate.from_template(f\"\"\"You are a question reinterpreter.\n",
    "    \n",
    "    --If the provided question is not properly formed, then form a proper question out of the input.\n",
    "    --If the provided question is given as a proper query then return the output as it is.\n",
    "    --DO NOT loose information from the input\n",
    "    \n",
    "    Output: Return only the reformed question as the output.\n",
    "    \n",
    "    Here is the question : {question}\"\"\")\n",
    "\n",
    "chain = prompt | llm\n",
    "\n",
    "query=\"Load balancing customer IO capabilities across nodes in a cluster or across geographic areas within a region\"\n",
    "\n",
    "chain.ainvoke({\"question\":\"abd\"})"
   ]
  },
  {
   "cell_type": "code",
   "execution_count": 26,
   "id": "89712431",
   "metadata": {},
   "outputs": [],
   "source": [
    "from langchain_core.messages import HumanMessage, SystemMessage\n",
    "\n",
    "query=\"Can reports be produced via REST API or viewed on a GUI - based on node/site and global capacity (total, quota, used, free)? If so, please explain what is available to see and provide sample reports.\"\n",
    "\n",
    "messages = [\n",
    "    SystemMessage(content=f\"\"\"You are a question reinterpreter.The queries are provided by Customers to NetApp Storage Grid\n",
    "    a Data Storage Management System.\n",
    "          \n",
    "          --If the provided question is not properly formed, then form a proper question out of the input.\n",
    "          --If the provided question is given as a proper query then return the output as it is.\n",
    "          --DO NOT loose information from the input\n",
    "          \n",
    "         Output: Return only the reformed question as the output.\n",
    "        \"\"\"),\n",
    "    HumanMessage(content=f\"Here is the question:{query}\"),\n",
    "]"
   ]
  },
  {
   "cell_type": "code",
   "execution_count": 27,
   "id": "57cdbd76",
   "metadata": {},
   "outputs": [],
   "source": [
    "chain=llm | StrOutputParser()"
   ]
  },
  {
   "cell_type": "code",
   "execution_count": 28,
   "id": "d3559788",
   "metadata": {},
   "outputs": [
    {
     "data": {
      "text/plain": [
       "'Can reports be produced via REST API or viewed on a GUI based on node/site and global capacity (total, quota, used, free)? If so, what is available to see and can you provide sample reports?'"
      ]
     },
     "execution_count": 28,
     "metadata": {},
     "output_type": "execute_result"
    }
   ],
   "source": [
    "chain.invoke(messages)"
   ]
  },
  {
   "cell_type": "code",
   "execution_count": null,
   "id": "e3d335e7",
   "metadata": {},
   "outputs": [],
   "source": []
  }
 ],
 "metadata": {
  "kernelspec": {
   "display_name": "Python 3 (ipykernel)",
   "language": "python",
   "name": "python3"
  },
  "language_info": {
   "codemirror_mode": {
    "name": "ipython",
    "version": 3
   },
   "file_extension": ".py",
   "mimetype": "text/x-python",
   "name": "python",
   "nbconvert_exporter": "python",
   "pygments_lexer": "ipython3",
   "version": "3.11.5"
  }
 },
 "nbformat": 4,
 "nbformat_minor": 5
}
